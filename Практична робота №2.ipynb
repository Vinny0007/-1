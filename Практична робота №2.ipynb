{
 "cells": [
  {
   "cell_type": "code",
   "execution_count": 13,
   "id": "d47bd426-59a3-4bd7-8ea8-b8f7d190c47e",
   "metadata": {},
   "outputs": [],
   "source": [
    "#Завдання 1\n",
    "#Прочитайте CSV файл (використовуйте метод read_csv):\n",
    "import pandas as pd\n",
    "import numpy as np\n",
    "import matplotlib.pyplot as plt\n",
    "data = pd.read_csv(\"Global YouTube Statistics.csv\",encoding=\"latin-1\") #довелось зазначити кодування тому що pandas не міг прочитати файл\n"
   ]
  },
  {
   "cell_type": "code",
   "execution_count": 3,
   "id": "2ac9a12e-f900-4b88-9909-f38f54615c21",
   "metadata": {},
   "outputs": [
    {
     "data": {
      "text/html": [
       "<div>\n",
       "<style scoped>\n",
       "    .dataframe tbody tr th:only-of-type {\n",
       "        vertical-align: middle;\n",
       "    }\n",
       "\n",
       "    .dataframe tbody tr th {\n",
       "        vertical-align: top;\n",
       "    }\n",
       "\n",
       "    .dataframe thead th {\n",
       "        text-align: right;\n",
       "    }\n",
       "</style>\n",
       "<table border=\"1\" class=\"dataframe\">\n",
       "  <thead>\n",
       "    <tr style=\"text-align: right;\">\n",
       "      <th></th>\n",
       "      <th>rank</th>\n",
       "      <th>Youtuber</th>\n",
       "      <th>subscribers</th>\n",
       "      <th>video views</th>\n",
       "      <th>category</th>\n",
       "      <th>Title</th>\n",
       "      <th>uploads</th>\n",
       "      <th>Country</th>\n",
       "      <th>Abbreviation</th>\n",
       "      <th>channel_type</th>\n",
       "      <th>...</th>\n",
       "      <th>subscribers_for_last_30_days</th>\n",
       "      <th>created_year</th>\n",
       "      <th>created_month</th>\n",
       "      <th>created_date</th>\n",
       "      <th>Gross tertiary education enrollment (%)</th>\n",
       "      <th>Population</th>\n",
       "      <th>Unemployment rate</th>\n",
       "      <th>Urban_population</th>\n",
       "      <th>Latitude</th>\n",
       "      <th>Longitude</th>\n",
       "    </tr>\n",
       "  </thead>\n",
       "  <tbody>\n",
       "    <tr>\n",
       "      <th>0</th>\n",
       "      <td>1</td>\n",
       "      <td>T-Series</td>\n",
       "      <td>245000000</td>\n",
       "      <td>2.280000e+11</td>\n",
       "      <td>Music</td>\n",
       "      <td>T-Series</td>\n",
       "      <td>20082</td>\n",
       "      <td>India</td>\n",
       "      <td>IN</td>\n",
       "      <td>Music</td>\n",
       "      <td>...</td>\n",
       "      <td>2000000.0</td>\n",
       "      <td>2006.0</td>\n",
       "      <td>Mar</td>\n",
       "      <td>13.0</td>\n",
       "      <td>28.1</td>\n",
       "      <td>1.366418e+09</td>\n",
       "      <td>5.36</td>\n",
       "      <td>471031528.0</td>\n",
       "      <td>20.593684</td>\n",
       "      <td>78.962880</td>\n",
       "    </tr>\n",
       "    <tr>\n",
       "      <th>1</th>\n",
       "      <td>2</td>\n",
       "      <td>YouTube Movies</td>\n",
       "      <td>170000000</td>\n",
       "      <td>0.000000e+00</td>\n",
       "      <td>Film &amp; Animation</td>\n",
       "      <td>youtubemovies</td>\n",
       "      <td>1</td>\n",
       "      <td>United States</td>\n",
       "      <td>US</td>\n",
       "      <td>Games</td>\n",
       "      <td>...</td>\n",
       "      <td>NaN</td>\n",
       "      <td>2006.0</td>\n",
       "      <td>Mar</td>\n",
       "      <td>5.0</td>\n",
       "      <td>88.2</td>\n",
       "      <td>3.282395e+08</td>\n",
       "      <td>14.70</td>\n",
       "      <td>270663028.0</td>\n",
       "      <td>37.090240</td>\n",
       "      <td>-95.712891</td>\n",
       "    </tr>\n",
       "    <tr>\n",
       "      <th>2</th>\n",
       "      <td>3</td>\n",
       "      <td>MrBeast</td>\n",
       "      <td>166000000</td>\n",
       "      <td>2.836884e+10</td>\n",
       "      <td>Entertainment</td>\n",
       "      <td>MrBeast</td>\n",
       "      <td>741</td>\n",
       "      <td>United States</td>\n",
       "      <td>US</td>\n",
       "      <td>Entertainment</td>\n",
       "      <td>...</td>\n",
       "      <td>8000000.0</td>\n",
       "      <td>2012.0</td>\n",
       "      <td>Feb</td>\n",
       "      <td>20.0</td>\n",
       "      <td>88.2</td>\n",
       "      <td>3.282395e+08</td>\n",
       "      <td>14.70</td>\n",
       "      <td>270663028.0</td>\n",
       "      <td>37.090240</td>\n",
       "      <td>-95.712891</td>\n",
       "    </tr>\n",
       "    <tr>\n",
       "      <th>3</th>\n",
       "      <td>4</td>\n",
       "      <td>Cocomelon - Nursery Rhymes</td>\n",
       "      <td>162000000</td>\n",
       "      <td>1.640000e+11</td>\n",
       "      <td>Education</td>\n",
       "      <td>Cocomelon - Nursery Rhymes</td>\n",
       "      <td>966</td>\n",
       "      <td>United States</td>\n",
       "      <td>US</td>\n",
       "      <td>Education</td>\n",
       "      <td>...</td>\n",
       "      <td>1000000.0</td>\n",
       "      <td>2006.0</td>\n",
       "      <td>Sep</td>\n",
       "      <td>1.0</td>\n",
       "      <td>88.2</td>\n",
       "      <td>3.282395e+08</td>\n",
       "      <td>14.70</td>\n",
       "      <td>270663028.0</td>\n",
       "      <td>37.090240</td>\n",
       "      <td>-95.712891</td>\n",
       "    </tr>\n",
       "    <tr>\n",
       "      <th>4</th>\n",
       "      <td>5</td>\n",
       "      <td>SET India</td>\n",
       "      <td>159000000</td>\n",
       "      <td>1.480000e+11</td>\n",
       "      <td>Shows</td>\n",
       "      <td>SET India</td>\n",
       "      <td>116536</td>\n",
       "      <td>India</td>\n",
       "      <td>IN</td>\n",
       "      <td>Entertainment</td>\n",
       "      <td>...</td>\n",
       "      <td>1000000.0</td>\n",
       "      <td>2006.0</td>\n",
       "      <td>Sep</td>\n",
       "      <td>20.0</td>\n",
       "      <td>28.1</td>\n",
       "      <td>1.366418e+09</td>\n",
       "      <td>5.36</td>\n",
       "      <td>471031528.0</td>\n",
       "      <td>20.593684</td>\n",
       "      <td>78.962880</td>\n",
       "    </tr>\n",
       "  </tbody>\n",
       "</table>\n",
       "<p>5 rows × 28 columns</p>\n",
       "</div>"
      ],
      "text/plain": [
       "   rank                    Youtuber  subscribers   video views  \\\n",
       "0     1                    T-Series    245000000  2.280000e+11   \n",
       "1     2              YouTube Movies    170000000  0.000000e+00   \n",
       "2     3                     MrBeast    166000000  2.836884e+10   \n",
       "3     4  Cocomelon - Nursery Rhymes    162000000  1.640000e+11   \n",
       "4     5                   SET India    159000000  1.480000e+11   \n",
       "\n",
       "           category                       Title  uploads        Country  \\\n",
       "0             Music                    T-Series    20082          India   \n",
       "1  Film & Animation               youtubemovies        1  United States   \n",
       "2     Entertainment                     MrBeast      741  United States   \n",
       "3         Education  Cocomelon - Nursery Rhymes      966  United States   \n",
       "4             Shows                   SET India   116536          India   \n",
       "\n",
       "  Abbreviation   channel_type  ...  subscribers_for_last_30_days  \\\n",
       "0           IN          Music  ...                     2000000.0   \n",
       "1           US          Games  ...                           NaN   \n",
       "2           US  Entertainment  ...                     8000000.0   \n",
       "3           US      Education  ...                     1000000.0   \n",
       "4           IN  Entertainment  ...                     1000000.0   \n",
       "\n",
       "   created_year  created_month  created_date  \\\n",
       "0        2006.0            Mar          13.0   \n",
       "1        2006.0            Mar           5.0   \n",
       "2        2012.0            Feb          20.0   \n",
       "3        2006.0            Sep           1.0   \n",
       "4        2006.0            Sep          20.0   \n",
       "\n",
       "   Gross tertiary education enrollment (%)    Population  Unemployment rate  \\\n",
       "0                                     28.1  1.366418e+09               5.36   \n",
       "1                                     88.2  3.282395e+08              14.70   \n",
       "2                                     88.2  3.282395e+08              14.70   \n",
       "3                                     88.2  3.282395e+08              14.70   \n",
       "4                                     28.1  1.366418e+09               5.36   \n",
       "\n",
       "   Urban_population   Latitude  Longitude  \n",
       "0       471031528.0  20.593684  78.962880  \n",
       "1       270663028.0  37.090240 -95.712891  \n",
       "2       270663028.0  37.090240 -95.712891  \n",
       "3       270663028.0  37.090240 -95.712891  \n",
       "4       471031528.0  20.593684  78.962880  \n",
       "\n",
       "[5 rows x 28 columns]"
      ]
     },
     "execution_count": 3,
     "metadata": {},
     "output_type": "execute_result"
    }
   ],
   "source": [
    "#Завдання 2\n",
    "#Виведіть перші п'ять рядків (використовується метод head): \n",
    "data.head(5)"
   ]
  },
  {
   "cell_type": "code",
   "execution_count": 4,
   "id": "3de4722b-25b5-42c8-aa4c-9fc309dfbb51",
   "metadata": {},
   "outputs": [
    {
     "name": "stdout",
     "output_type": "stream",
     "text": [
      "(995, 28)\n"
     ]
    }
   ],
   "source": [
    "#Завдання 3\n",
    "#Виведіть розміри датасету (використовуйте метод shape): \n",
    "print(data.shape)"
   ]
  },
  {
   "cell_type": "code",
   "execution_count": 5,
   "id": "09e0fc3a-9110-43a1-8f9e-c58854e91920",
   "metadata": {},
   "outputs": [
    {
     "name": "stdout",
     "output_type": "stream",
     "text": [
      "Пропущені значення:  rank                                         0\n",
      "Youtuber                                     0\n",
      "subscribers                                  0\n",
      "video views                                  0\n",
      "category                                    46\n",
      "Title                                        0\n",
      "uploads                                      0\n",
      "Country                                    122\n",
      "Abbreviation                               122\n",
      "channel_type                                30\n",
      "video_views_rank                             1\n",
      "country_rank                               116\n",
      "channel_type_rank                           33\n",
      "video_views_for_the_last_30_days            56\n",
      "lowest_monthly_earnings                      0\n",
      "highest_monthly_earnings                     0\n",
      "lowest_yearly_earnings                       0\n",
      "highest_yearly_earnings                      0\n",
      "subscribers_for_last_30_days               337\n",
      "created_year                                 5\n",
      "created_month                                5\n",
      "created_date                                 5\n",
      "Gross tertiary education enrollment (%)    123\n",
      "Population                                 123\n",
      "Unemployment rate                          123\n",
      "Urban_population                           123\n",
      "Latitude                                   123\n",
      "Longitude                                  123\n",
      "dtype: int64\n"
     ]
    }
   ],
   "source": [
    "#Завдання 4\n",
    "#Перевірте, чи у всіх рядків вистачає даних: виведіть кількість пропусків  у кожному зі стовпців (використовуйте методи isna та sum). \n",
    "print('Пропущені значення: ', data.isna().sum())\n"
   ]
  },
  {
   "cell_type": "code",
   "execution_count": 7,
   "id": "88517378-7d6b-4e54-a0b3-acdde80c63f4",
   "metadata": {},
   "outputs": [
    {
     "name": "stdout",
     "output_type": "stream",
     "text": [
      "rank                                         0\n",
      "Youtuber                                   995\n",
      "subscribers                                  0\n",
      "video views                                  0\n",
      "category                                   995\n",
      "Title                                      995\n",
      "uploads                                      0\n",
      "Country                                    995\n",
      "Abbreviation                               995\n",
      "channel_type                               995\n",
      "video_views_rank                             1\n",
      "country_rank                               116\n",
      "channel_type_rank                           33\n",
      "video_views_for_the_last_30_days            56\n",
      "lowest_monthly_earnings                      0\n",
      "highest_monthly_earnings                     0\n",
      "lowest_yearly_earnings                       0\n",
      "highest_yearly_earnings                      0\n",
      "subscribers_for_last_30_days               337\n",
      "created_year                                 5\n",
      "created_month                              995\n",
      "created_date                                 5\n",
      "Gross tertiary education enrollment (%)    123\n",
      "Population                                 123\n",
      "Unemployment rate                          123\n",
      "Urban_population                           123\n",
      "Latitude                                   123\n",
      "Longitude                                  123\n",
      "dtype: int64\n"
     ]
    }
   ],
   "source": [
    "# Якщо є пропуски, замінить їх на NaN, потім тип даних на числовий.\n",
    "data.replace(' ', pd.NA, inplace=True)\n",
    "data = data.apply(pd.to_numeric, errors='coerce')\n",
    "print(data.isna().sum())"
   ]
  },
  {
   "cell_type": "code",
   "execution_count": 8,
   "id": "36185ac8-6dd7-4588-84ff-fae36970b60d",
   "metadata": {},
   "outputs": [],
   "source": [
    "# 5 Замініть комірки з пропущеними значенями на середні за стовпцем. І тип даних на float. \n",
    "data.fillna(data.mean(), inplace=True)\n",
    "data = data.astype(float)"
   ]
  },
  {
   "cell_type": "code",
   "execution_count": 10,
   "id": "8c02dbe0-e2c6-4af7-bd97-baeaeb3fb090",
   "metadata": {},
   "outputs": [
    {
     "data": {
      "text/plain": [
       "rank                                         0\n",
       "Youtuber                                   995\n",
       "subscribers                                  0\n",
       "video views                                  0\n",
       "category                                   995\n",
       "Title                                      995\n",
       "uploads                                      0\n",
       "Country                                    995\n",
       "Abbreviation                               995\n",
       "channel_type                               995\n",
       "video_views_rank                             0\n",
       "country_rank                                 0\n",
       "channel_type_rank                            0\n",
       "video_views_for_the_last_30_days             0\n",
       "lowest_monthly_earnings                      0\n",
       "highest_monthly_earnings                     0\n",
       "lowest_yearly_earnings                       0\n",
       "highest_yearly_earnings                      0\n",
       "subscribers_for_last_30_days                 0\n",
       "created_year                                 0\n",
       "created_month                              995\n",
       "created_date                                 0\n",
       "Gross tertiary education enrollment (%)      0\n",
       "Population                                   0\n",
       "Unemployment rate                            0\n",
       "Urban_population                             0\n",
       "Latitude                                     0\n",
       "Longitude                                    0\n",
       "dtype: int64"
      ]
     },
     "execution_count": 10,
     "metadata": {},
     "output_type": "execute_result"
    }
   ],
   "source": [
    "# 6 Ще раз перевірте кількість пропусків.\n",
    "data.isna().sum()"
   ]
  },
  {
   "cell_type": "code",
   "execution_count": 11,
   "id": "7a3d155a-8042-44b3-a61d-d381963e6f69",
   "metadata": {},
   "outputs": [
    {
     "name": "stdout",
     "output_type": "stream",
     "text": [
      "0\n"
     ]
    }
   ],
   "source": [
    "# 7 Перевірте, скільки унікальних країн представлено у колонці \"Country\" \n",
    "countries = data['Country'].nunique()\n",
    "print(countries)"
   ]
  },
  {
   "cell_type": "code",
   "execution_count": 14,
   "id": "bf83dd9b-bc8d-44eb-beeb-8ca57e47bd7a",
   "metadata": {},
   "outputs": [
    {
     "data": {
      "image/png": "[encoded data removed]",
      "text/plain": [
       "<Figure size 640x480 with 1 Axes>"
      ]
     },
     "metadata": {},
     "output_type": "display_data"
    }
   ],
   "source": [
    "# 8 Побудуйте діаграму розподілу переглядів (використовуйте kind='hist'):\n",
    "data['video views'].plot(kind='hist', bins=20, edgecolor='black')\n",
    "plt.xlabel('Кількість переглядів')\n",
    "plt.ylabel('Частота')\n",
    "plt.title('Розподіл переглядів')\n",
    "plt.grid(True)\n",
    "plt.show()"
   ]
  },
  {
   "cell_type": "code",
   "execution_count": 15,
   "id": "334e5407-7ea3-4e90-a8e7-b91ff9a3f01a",
   "metadata": {},
   "outputs": [
    {
     "name": "stdout",
     "output_type": "stream",
     "text": [
      "228000000000.0\n",
      "0.0\n",
      "11039537052.03819\n"
     ]
    }
   ],
   "source": [
    "# 9 Визначте максимальну, мінімальну, середню кількість переглядів (використовуйте методи max, min, mean) \n",
    "print(data['video views'].max())\n",
    "print(data['video views'].min())\n",
    "print(data['video views'].mean())"
   ]
  },
  {
   "cell_type": "code",
   "execution_count": 16,
   "id": "1fc629e9-d8cd-42f4-a1fb-f0097c0d374b",
   "metadata": {},
   "outputs": [
    {
     "name": "stdout",
     "output_type": "stream",
     "text": [
      "India\n"
     ]
    }
   ],
   "source": [
    "# 10 Знайдіть країну, де найбільше відео було завантажено на YouTube \n",
    "country = data.at[data['uploads'].idxmax(), 'Country']\n",
    "print(country)"
   ]
  },
  {
   "cell_type": "code",
   "execution_count": 17,
   "id": "d41a184a-8160-4fe0-86a5-ae6da8007490",
   "metadata": {},
   "outputs": [
    {
     "name": "stdout",
     "output_type": "stream",
     "text": [
      "Найбільша к-сть завантажень: ABP NEWS\n",
      "Найменша к-сть завантажень: Music\n"
     ]
    }
   ],
   "source": [
    "# 11 \n",
    "video1 = data.at[data['uploads'].idxmax(), 'Title']\n",
    "video2 = data.at[data['uploads'].idxmin(), 'Title']\n",
    "print(\"Найбільша к-сть завантажень:\", video1 )\n",
    "print(\"Найменша к-сть завантажень:\", video2 )"
   ]
  },
  {
   "cell_type": "code",
   "execution_count": 19,
   "id": "1d67d6f6-d451-4e9a-afd0-fc9a981a981c",
   "metadata": {},
   "outputs": [],
   "source": [
    "# 1 Прочитайте CSV файл (метод read_csv):\n",
    "df = pd. read_csv('bestsellers with categories.csv')"
   ]
  },
  {
   "cell_type": "code",
   "execution_count": 20,
   "id": "65e84c60-00af-498f-9ca2-5de7d65abe70",
   "metadata": {},
   "outputs": [
    {
     "data": {
      "text/html": [
       "<div>\n",
       "<style scoped>\n",
       "    .dataframe tbody tr th:only-of-type {\n",
       "        vertical-align: middle;\n",
       "    }\n",
       "\n",
       "    .dataframe tbody tr th {\n",
       "        vertical-align: top;\n",
       "    }\n",
       "\n",
       "    .dataframe thead th {\n",
       "        text-align: right;\n",
       "    }\n",
       "</style>\n",
       "<table border=\"1\" class=\"dataframe\">\n",
       "  <thead>\n",
       "    <tr style=\"text-align: right;\">\n",
       "      <th></th>\n",
       "      <th>Name</th>\n",
       "      <th>Author</th>\n",
       "      <th>User Rating</th>\n",
       "      <th>Reviews</th>\n",
       "      <th>Price</th>\n",
       "      <th>Year</th>\n",
       "      <th>Genre</th>\n",
       "    </tr>\n",
       "  </thead>\n",
       "  <tbody>\n",
       "    <tr>\n",
       "      <th>0</th>\n",
       "      <td>10-Day Green Smoothie Cleanse</td>\n",
       "      <td>JJ Smith</td>\n",
       "      <td>4.7</td>\n",
       "      <td>17350</td>\n",
       "      <td>8</td>\n",
       "      <td>2016</td>\n",
       "      <td>Non Fiction</td>\n",
       "    </tr>\n",
       "    <tr>\n",
       "      <th>1</th>\n",
       "      <td>11/22/63: A Novel</td>\n",
       "      <td>Stephen King</td>\n",
       "      <td>4.6</td>\n",
       "      <td>2052</td>\n",
       "      <td>22</td>\n",
       "      <td>2011</td>\n",
       "      <td>Fiction</td>\n",
       "    </tr>\n",
       "    <tr>\n",
       "      <th>2</th>\n",
       "      <td>12 Rules for Life: An Antidote to Chaos</td>\n",
       "      <td>Jordan B. Peterson</td>\n",
       "      <td>4.7</td>\n",
       "      <td>18979</td>\n",
       "      <td>15</td>\n",
       "      <td>2018</td>\n",
       "      <td>Non Fiction</td>\n",
       "    </tr>\n",
       "    <tr>\n",
       "      <th>3</th>\n",
       "      <td>1984 (Signet Classics)</td>\n",
       "      <td>George Orwell</td>\n",
       "      <td>4.7</td>\n",
       "      <td>21424</td>\n",
       "      <td>6</td>\n",
       "      <td>2017</td>\n",
       "      <td>Fiction</td>\n",
       "    </tr>\n",
       "    <tr>\n",
       "      <th>4</th>\n",
       "      <td>5,000 Awesome Facts (About Everything!) (Natio...</td>\n",
       "      <td>National Geographic Kids</td>\n",
       "      <td>4.8</td>\n",
       "      <td>7665</td>\n",
       "      <td>12</td>\n",
       "      <td>2019</td>\n",
       "      <td>Non Fiction</td>\n",
       "    </tr>\n",
       "    <tr>\n",
       "      <th>5</th>\n",
       "      <td>A Dance with Dragons (A Song of Ice and Fire)</td>\n",
       "      <td>George R. R. Martin</td>\n",
       "      <td>4.4</td>\n",
       "      <td>12643</td>\n",
       "      <td>11</td>\n",
       "      <td>2011</td>\n",
       "      <td>Fiction</td>\n",
       "    </tr>\n",
       "    <tr>\n",
       "      <th>6</th>\n",
       "      <td>A Game of Thrones / A Clash of Kings / A Storm...</td>\n",
       "      <td>George R. R. Martin</td>\n",
       "      <td>4.7</td>\n",
       "      <td>19735</td>\n",
       "      <td>30</td>\n",
       "      <td>2014</td>\n",
       "      <td>Fiction</td>\n",
       "    </tr>\n",
       "    <tr>\n",
       "      <th>7</th>\n",
       "      <td>A Gentleman in Moscow: A Novel</td>\n",
       "      <td>Amor Towles</td>\n",
       "      <td>4.7</td>\n",
       "      <td>19699</td>\n",
       "      <td>15</td>\n",
       "      <td>2017</td>\n",
       "      <td>Fiction</td>\n",
       "    </tr>\n",
       "    <tr>\n",
       "      <th>8</th>\n",
       "      <td>A Higher Loyalty: Truth, Lies, and Leadership</td>\n",
       "      <td>James Comey</td>\n",
       "      <td>4.7</td>\n",
       "      <td>5983</td>\n",
       "      <td>3</td>\n",
       "      <td>2018</td>\n",
       "      <td>Non Fiction</td>\n",
       "    </tr>\n",
       "    <tr>\n",
       "      <th>9</th>\n",
       "      <td>A Man Called Ove: A Novel</td>\n",
       "      <td>Fredrik Backman</td>\n",
       "      <td>4.6</td>\n",
       "      <td>23848</td>\n",
       "      <td>8</td>\n",
       "      <td>2016</td>\n",
       "      <td>Fiction</td>\n",
       "    </tr>\n",
       "  </tbody>\n",
       "</table>\n",
       "</div>"
      ],
      "text/plain": [
       "                                                Name  \\\n",
       "0                      10-Day Green Smoothie Cleanse   \n",
       "1                                  11/22/63: A Novel   \n",
       "2            12 Rules for Life: An Antidote to Chaos   \n",
       "3                             1984 (Signet Classics)   \n",
       "4  5,000 Awesome Facts (About Everything!) (Natio...   \n",
       "5      A Dance with Dragons (A Song of Ice and Fire)   \n",
       "6  A Game of Thrones / A Clash of Kings / A Storm...   \n",
       "7                     A Gentleman in Moscow: A Novel   \n",
       "8      A Higher Loyalty: Truth, Lies, and Leadership   \n",
       "9                          A Man Called Ove: A Novel   \n",
       "\n",
       "                     Author  User Rating  Reviews  Price  Year        Genre  \n",
       "0                  JJ Smith          4.7    17350      8  2016  Non Fiction  \n",
       "1              Stephen King          4.6     2052     22  2011      Fiction  \n",
       "2        Jordan B. Peterson          4.7    18979     15  2018  Non Fiction  \n",
       "3             George Orwell          4.7    21424      6  2017      Fiction  \n",
       "4  National Geographic Kids          4.8     7665     12  2019  Non Fiction  \n",
       "5       George R. R. Martin          4.4    12643     11  2011      Fiction  \n",
       "6       George R. R. Martin          4.7    19735     30  2014      Fiction  \n",
       "7               Amor Towles          4.7    19699     15  2017      Fiction  \n",
       "8               James Comey          4.7     5983      3  2018  Non Fiction  \n",
       "9           Fredrik Backman          4.6    23848      8  2016      Fiction  "
      ]
     },
     "execution_count": 20,
     "metadata": {},
     "output_type": "execute_result"
    }
   ],
   "source": [
    "# 2  Виведіть перші 10 рядків ( метод head):\n",
    "df.head(10)"
   ]
  },
  {
   "cell_type": "code",
   "execution_count": 21,
   "id": "4bc1b35d-65f8-4a01-b1a3-352d8c5e1134",
   "metadata": {},
   "outputs": [
    {
     "name": "stdout",
     "output_type": "stream",
     "text": [
      "(550, 7)\n",
      "Кількість книг у датасеті: 550\n"
     ]
    }
   ],
   "source": [
    "# 3 Виведіть розміри датасету (метод shape) \n",
    "print(df.shape)\n",
    "print(\"Кількість книг у датасеті:\", df.shape[0])"
   ]
  },
  {
   "cell_type": "code",
   "execution_count": 22,
   "id": "19f4b99f-acf9-4a51-88a9-752572a42a88",
   "metadata": {},
   "outputs": [
    {
     "data": {
      "text/html": [
       "<div>\n",
       "<style scoped>\n",
       "    .dataframe tbody tr th:only-of-type {\n",
       "        vertical-align: middle;\n",
       "    }\n",
       "\n",
       "    .dataframe tbody tr th {\n",
       "        vertical-align: top;\n",
       "    }\n",
       "\n",
       "    .dataframe thead th {\n",
       "        text-align: right;\n",
       "    }\n",
       "</style>\n",
       "<table border=\"1\" class=\"dataframe\">\n",
       "  <thead>\n",
       "    <tr style=\"text-align: right;\">\n",
       "      <th></th>\n",
       "      <th>name</th>\n",
       "      <th>author</th>\n",
       "      <th>user_rating</th>\n",
       "      <th>reviews</th>\n",
       "      <th>price</th>\n",
       "      <th>year</th>\n",
       "      <th>genre</th>\n",
       "    </tr>\n",
       "  </thead>\n",
       "  <tbody>\n",
       "    <tr>\n",
       "      <th>0</th>\n",
       "      <td>10-Day Green Smoothie Cleanse</td>\n",
       "      <td>JJ Smith</td>\n",
       "      <td>4.7</td>\n",
       "      <td>17350</td>\n",
       "      <td>8</td>\n",
       "      <td>2016</td>\n",
       "      <td>Non Fiction</td>\n",
       "    </tr>\n",
       "    <tr>\n",
       "      <th>1</th>\n",
       "      <td>11/22/63: A Novel</td>\n",
       "      <td>Stephen King</td>\n",
       "      <td>4.6</td>\n",
       "      <td>2052</td>\n",
       "      <td>22</td>\n",
       "      <td>2011</td>\n",
       "      <td>Fiction</td>\n",
       "    </tr>\n",
       "    <tr>\n",
       "      <th>2</th>\n",
       "      <td>12 Rules for Life: An Antidote to Chaos</td>\n",
       "      <td>Jordan B. Peterson</td>\n",
       "      <td>4.7</td>\n",
       "      <td>18979</td>\n",
       "      <td>15</td>\n",
       "      <td>2018</td>\n",
       "      <td>Non Fiction</td>\n",
       "    </tr>\n",
       "    <tr>\n",
       "      <th>3</th>\n",
       "      <td>1984 (Signet Classics)</td>\n",
       "      <td>George Orwell</td>\n",
       "      <td>4.7</td>\n",
       "      <td>21424</td>\n",
       "      <td>6</td>\n",
       "      <td>2017</td>\n",
       "      <td>Fiction</td>\n",
       "    </tr>\n",
       "    <tr>\n",
       "      <th>4</th>\n",
       "      <td>5,000 Awesome Facts (About Everything!) (Natio...</td>\n",
       "      <td>National Geographic Kids</td>\n",
       "      <td>4.8</td>\n",
       "      <td>7665</td>\n",
       "      <td>12</td>\n",
       "      <td>2019</td>\n",
       "      <td>Non Fiction</td>\n",
       "    </tr>\n",
       "  </tbody>\n",
       "</table>\n",
       "</div>"
      ],
      "text/plain": [
       "                                                name  \\\n",
       "0                      10-Day Green Smoothie Cleanse   \n",
       "1                                  11/22/63: A Novel   \n",
       "2            12 Rules for Life: An Antidote to Chaos   \n",
       "3                             1984 (Signet Classics)   \n",
       "4  5,000 Awesome Facts (About Everything!) (Natio...   \n",
       "\n",
       "                     author  user_rating  reviews  price  year        genre  \n",
       "0                  JJ Smith          4.7    17350      8  2016  Non Fiction  \n",
       "1              Stephen King          4.6     2052     22  2011      Fiction  \n",
       "2        Jordan B. Peterson          4.7    18979     15  2018  Non Fiction  \n",
       "3             George Orwell          4.7    21424      6  2017      Fiction  \n",
       "4  National Geographic Kids          4.8     7665     12  2019  Non Fiction  "
      ]
     },
     "execution_count": 22,
     "metadata": {},
     "output_type": "execute_result"
    }
   ],
   "source": [
    "# 4 Змініть назви всіх колонок: назва з маленької букви, без пробілів через підкреслення. \n",
    "df.columns = ['name', 'author', 'user_rating', 'reviews', 'price', 'year', 'genre']\n",
    "df.head()"
   ]
  },
  {
   "cell_type": "code",
   "execution_count": 23,
   "id": "50462952-ae46-4efc-9400-148def9348ff",
   "metadata": {},
   "outputs": [
    {
     "name": "stdout",
     "output_type": "stream",
     "text": [
      "name           0\n",
      "author         0\n",
      "user_rating    0\n",
      "reviews        0\n",
      "price          0\n",
      "year           0\n",
      "genre          0\n",
      "dtype: int64\n",
      "Чи є в якихось змінних пропуски? Ні\n"
     ]
    }
   ],
   "source": [
    "# 5 Вивести кількість пропусків у кожному стовпчику\n",
    "print(df.isna().sum())\n",
    "skip = df.isna().any().any()\n",
    "print(\"Чи є в якихось змінних пропуски?\", \"Так\" if skip else \"Ні\")"
   ]
  },
  {
   "cell_type": "code",
   "execution_count": 24,
   "id": "e33dfedb-4bfe-4ed0-be57-f618044c859f",
   "metadata": {},
   "outputs": [
    {
     "name": "stdout",
     "output_type": "stream",
     "text": [
      "Унікальні жанри:\n",
      "['Non Fiction' 'Fiction']\n"
     ]
    }
   ],
   "source": [
    "# 6 За допомогою методу unique  перевірте. Які є унікальні жанри в стовпці genre  \n",
    "print(\"Унікальні жанри:\")\n",
    "print(df['genre'].unique())"
   ]
  },
  {
   "cell_type": "code",
   "execution_count": 25,
   "id": "13071c1b-77c2-4346-85ad-74ce367d8519",
   "metadata": {},
   "outputs": [
    {
     "name": "stdout",
     "output_type": "stream",
     "text": [
      "Максимальна ціна: 105\n",
      "Мінімальна ціна: 0\n",
      "Середня ціна: 13.1\n",
      "Медіанна ціна: 11.0\n"
     ]
    }
   ],
   "source": [
    "# 7 Визначте максимальну, мінімальну, медіанну ціну за допомогою методів  max, min, mean, median \n",
    "print(\"Максимальна ціна:\", df['price'].max())\n",
    "print(\"Мінімальна ціна:\", df['price'].min())\n",
    "print(\"Середня ціна:\", df['price'].mean())\n",
    "print(\"Медіанна ціна:\", df['price'].median())"
   ]
  },
  {
   "cell_type": "code",
   "execution_count": 31,
   "id": "2cc8a3a0-6206-4738-bed8-8241f0429bd6",
   "metadata": {},
   "outputs": [
    {
     "name": "stdout",
     "output_type": "stream",
     "text": [
      "1. Який рейтинг у датасеті найвищий? 4.9\n"
     ]
    },
    {
     "ename": "NameError",
     "evalue": "name 'rating' is not defined",
     "output_type": "error",
     "traceback": [
      "\u001b[1;31m---------------------------------------------------------------------------\u001b[0m",
      "\u001b[1;31mNameError\u001b[0m                                 Traceback (most recent call last)",
      "Cell \u001b[1;32mIn[31], line 4\u001b[0m\n\u001b[0;32m      2\u001b[0m question1 \u001b[38;5;241m=\u001b[39m df[\u001b[38;5;124m'\u001b[39m\u001b[38;5;124muser_rating\u001b[39m\u001b[38;5;124m'\u001b[39m]\u001b[38;5;241m.\u001b[39mmax()\n\u001b[0;32m      3\u001b[0m \u001b[38;5;28mprint\u001b[39m(\u001b[38;5;124m\"\u001b[39m\u001b[38;5;124m1. Який рейтинг у датасеті найвищий?\u001b[39m\u001b[38;5;124m\"\u001b[39m, question1)\n\u001b[1;32m----> 4\u001b[0m question2 \u001b[38;5;241m=\u001b[39m (df[\u001b[38;5;124m'\u001b[39m\u001b[38;5;124muser_rating\u001b[39m\u001b[38;5;124m'\u001b[39m] \u001b[38;5;241m==\u001b[39m \u001b[43mrating\u001b[49m)\u001b[38;5;241m.\u001b[39msum()\n\u001b[0;32m      5\u001b[0m \u001b[38;5;28mprint\u001b[39m(\u001b[38;5;124m\"\u001b[39m\u001b[38;5;124m2. Скільки книг мають такий рейтинг?\u001b[39m\u001b[38;5;124m\"\u001b[39m, question2)\n\u001b[0;32m      6\u001b[0m question3 \u001b[38;5;241m=\u001b[39mdf\u001b[38;5;241m.\u001b[39mat[df[\u001b[38;5;124m'\u001b[39m\u001b[38;5;124mreviews\u001b[39m\u001b[38;5;124m'\u001b[39m]\u001b[38;5;241m.\u001b[39midxmax(), \u001b[38;5;124m'\u001b[39m\u001b[38;5;124mname\u001b[39m\u001b[38;5;124m'\u001b[39m]\n",
      "\u001b[1;31mNameError\u001b[0m: name 'rating' is not defined"
     ]
    }
   ],
   "source": [
    "# 8 Виконайте наступні завдання з пошуку і сортування даних \n",
    "question1 = df['user_rating'].max()\n",
    "print(\"1. Який рейтинг у датасеті найвищий?\", question1)\n",
    "question2 = (df['user_rating'] == rating).sum()\n",
    "print(\"2. Скільки книг мають такий рейтинг?\", question2)\n",
    "question3 =df.at[df['reviews'].idxmax(), 'name']\n",
    "print(\"3. Яка книга має найбільше відгуків? :\", question3)\n",
    "question4 = df[(df['year'] == 2010) & (df['user_rating'] <= 50)].nlargest(1, 'price')\n",
    "print(\"4. З тих книг, що потрапили до Топ-50 у 2010 році, яка книга найдорожча ?\", question4['name'].values[0])\n",
    "question5 = ((df['year'] == 2012) & (df['genre'] == 'Fiction') & (df['user_rating'] <= 50)).sum()\n",
    "print(\"5. Скільки книг жанру Fiction потрапили до Топ-50 у 2012 році ? \", question5)\n",
    "question6 = ((df['user_rating'] == 4.9) & (df['year'].isin([2010, 2011]))).sum()\n",
    "print(\"6. Скільки книг з рейтингом 4.9 потрапило до рейтингу у 2010 та 2011 роках ?\", question6 )"
   ]
  },
  {
   "cell_type": "code",
   "execution_count": 32,
   "id": "7718520d-583e-4845-9489-3e749e7681dd",
   "metadata": {},
   "outputs": [
    {
     "name": "stdout",
     "output_type": "stream",
     "text": [
      "            price    \n",
      "              max min\n",
      "genre                \n",
      "Fiction        82   0\n",
      "Non Fiction   105   0\n"
     ]
    }
   ],
   "source": [
    "# 9 Вивести максимальну і  мінімальну ціну для жанру Fiction I NonFiction (за допомогою методів  groupby та agg, для підрахунку мінімальних та максимальних значень використовуйте max та min).\n",
    "print(df.groupby('genre').agg({'price': ['max', 'min']}))"
   ]
  },
  {
   "cell_type": "code",
   "execution_count": null,
   "id": "583a4ef3-1325-4249-a19d-3fdcdfccc4cb",
   "metadata": {},
   "outputs": [],
   "source": []
  }
 ],
 "metadata": {
  "kernelspec": {
   "display_name": "Python 3 (ipykernel)",
   "language": "python",
   "name": "python3"
  },
  "language_info": {
   "codemirror_mode": {
    "name": "ipython",
    "version": 3
   },
   "file_extension": ".py",
   "mimetype": "text/x-python",
   "name": "python",
   "nbconvert_exporter": "python",
   "pygments_lexer": "ipython3",
   "version": "3.11.5"
  }
 },
 "nbformat": 4,
 "nbformat_minor": 5
}
